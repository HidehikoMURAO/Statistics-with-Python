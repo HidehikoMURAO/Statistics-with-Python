{
 "cells": [
  {
   "cell_type": "markdown",
   "id": "43469f55-1963-49ad-b190-ed1fd042ba31",
   "metadata": {},
   "source": [
    "## 3-4 分析の準備"
   ]
  },
  {
   "cell_type": "code",
   "execution_count": 1,
   "id": "df0c49c2-05c1-4b47-9ba8-e7963486c9fa",
   "metadata": {},
   "outputs": [],
   "source": [
    "import numpy as np\n",
    "import pandas as pd"
   ]
  },
  {
   "cell_type": "markdown",
   "id": "0aadc4f5-a357-4af3-8184-d43b9031b2d0",
   "metadata": {},
   "source": [
    "## 3-5 度数分布"
   ]
  },
  {
   "cell_type": "code",
   "execution_count": 2,
   "id": "f6cc545a-45e8-44fe-bab3-dd8e52c06435",
   "metadata": {},
   "outputs": [
    {
     "name": "stdout",
     "output_type": "stream",
     "text": [
      "  species\n",
      "0       A\n",
      "1       A\n",
      "2       A\n",
      "3       B\n",
      "4       B\n",
      "5       B\n",
      "6       B\n",
      "7       B\n",
      "8       B\n",
      "9       B\n"
     ]
    }
   ],
   "source": [
    "category_data = pd.read_csv('3-3-1-fish-species.csv')\n",
    "print(category_data)"
   ]
  },
  {
   "cell_type": "code",
   "execution_count": 3,
   "id": "b6a850b0-e3ff-48e0-ad16-3df759626820",
   "metadata": {},
   "outputs": [
    {
     "data": {
      "text/plain": [
       "species\n",
       "A    3\n",
       "B    7\n",
       "Name: count, dtype: int64"
      ]
     },
     "execution_count": 3,
     "metadata": {},
     "output_type": "execute_result"
    }
   ],
   "source": [
    "category_data.species.value_counts(sort=False) # value_counts はpandasシリーズの関数"
   ]
  },
  {
   "cell_type": "code",
   "execution_count": 4,
   "id": "3fdb9a0f-13d9-474d-9eb3-1d1353b4d036",
   "metadata": {},
   "outputs": [
    {
     "name": "stdout",
     "output_type": "stream",
     "text": [
      "   length\n",
      "0    1.91\n",
      "1    1.21\n",
      "2    2.28\n",
      "3    1.01\n",
      "4    1.00\n",
      "5    4.50\n",
      "6    1.96\n",
      "7    0.72\n",
      "8    3.67\n",
      "9    2.55\n"
     ]
    }
   ],
   "source": [
    "numeric_data = pd.read_csv('3-3-2-fish-length.csv')\n",
    "print(numeric_data)"
   ]
  },
  {
   "cell_type": "code",
   "execution_count": 5,
   "id": "08455fc6-2312-4521-adec-d454fe856503",
   "metadata": {},
   "outputs": [
    {
     "data": {
      "text/plain": [
       "length\n",
       "1.91    1\n",
       "1.21    1\n",
       "2.28    1\n",
       "1.01    1\n",
       "1.00    1\n",
       "4.50    1\n",
       "1.96    1\n",
       "0.72    1\n",
       "3.67    1\n",
       "2.55    1\n",
       "Name: count, dtype: int64"
      ]
     },
     "execution_count": 5,
     "metadata": {},
     "output_type": "execute_result"
    }
   ],
   "source": [
    "numeric_data.length.value_counts()"
   ]
  },
  {
   "cell_type": "code",
   "execution_count": 6,
   "id": "54dfa467-1d60-46a0-b644-b36948b17111",
   "metadata": {},
   "outputs": [
    {
     "data": {
      "text/plain": [
       "(0.715, 1.98]    6\n",
       "(1.98, 3.24]     2\n",
       "(3.24, 4.5]      2\n",
       "Name: count, dtype: int64"
      ]
     },
     "execution_count": 6,
     "metadata": {},
     "output_type": "execute_result"
    }
   ],
   "source": [
    "numeric_data.length.value_counts(bins=3)"
   ]
  },
  {
   "cell_type": "code",
   "execution_count": 7,
   "id": "f9398cfc-264d-4a51-b158-f99b250fe89e",
   "metadata": {},
   "outputs": [
    {
     "data": {
      "text/plain": [
       "array([0, 1, 2, 3, 4, 5])"
      ]
     },
     "execution_count": 7,
     "metadata": {},
     "output_type": "execute_result"
    }
   ],
   "source": [
    "np.arange(0, 6, 1) # 0~5までの等差級数"
   ]
  },
  {
   "cell_type": "code",
   "execution_count": 9,
   "id": "f9b63e9d-f13d-4657-b65b-c6fb2f2a1bd1",
   "metadata": {},
   "outputs": [
    {
     "data": {
      "text/plain": [
       "(-0.001, 1.0]    2\n",
       "(1.0, 2.0]       4\n",
       "(2.0, 3.0]       2\n",
       "(3.0, 4.0]       1\n",
       "(4.0, 5.0]       1\n",
       "Name: count, dtype: int64"
      ]
     },
     "execution_count": 9,
     "metadata": {},
     "output_type": "execute_result"
    }
   ],
   "source": [
    "freq = numeric_data.length.value_counts( #freq: 度数分布\n",
    "    bins=np.arange(0, 6, 1), sort=False)\n",
    "freq"
   ]
  },
  {
   "cell_type": "code",
   "execution_count": 10,
   "id": "a74e6e14-7adc-438d-8603-f8a8d39a78f1",
   "metadata": {},
   "outputs": [
    {
     "data": {
      "text/plain": [
       "(array([6, 2, 2]), array([0.72, 1.98, 3.24, 4.5 ]))"
      ]
     },
     "execution_count": 10,
     "metadata": {},
     "output_type": "execute_result"
    }
   ],
   "source": [
    "np.histogram(numeric_data.length, bins=3)"
   ]
  },
  {
   "cell_type": "code",
   "execution_count": 11,
   "id": "469846a7-dad8-498e-8525-cf36a3fea776",
   "metadata": {},
   "outputs": [
    {
     "data": {
      "text/plain": [
       "(array([1, 5, 2, 1, 1]), array([0, 1, 2, 3, 4, 5]))"
      ]
     },
     "execution_count": 11,
     "metadata": {},
     "output_type": "execute_result"
    }
   ],
   "source": [
    "np.histogram(numeric_data.length, bins=np.arange(0, 6, 1))"
   ]
  },
  {
   "cell_type": "code",
   "execution_count": null,
   "id": "bd333e36-f76c-4e35-9c52-260839cf49ae",
   "metadata": {},
   "outputs": [],
   "source": []
  }
 ],
 "metadata": {
  "kernelspec": {
   "display_name": "Python 3 (ipykernel)",
   "language": "python",
   "name": "python3"
  },
  "language_info": {
   "codemirror_mode": {
    "name": "ipython",
    "version": 3
   },
   "file_extension": ".py",
   "mimetype": "text/x-python",
   "name": "python",
   "nbconvert_exporter": "python",
   "pygments_lexer": "ipython3",
   "version": "3.11.7"
  }
 },
 "nbformat": 4,
 "nbformat_minor": 5
}
