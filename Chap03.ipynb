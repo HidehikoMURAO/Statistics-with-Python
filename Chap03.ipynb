{
 "cells": [
  {
   "cell_type": "markdown",
   "id": "0cc45404-5ad3-4bd4-a356-f629fa410d03",
   "metadata": {},
   "source": [
    "# 第三章 Pythonによるプログラミングの基本"
   ]
  },
  {
   "cell_type": "markdown",
   "id": "ca13c9f0-f515-45ca-bbe8-3dccbca262e3",
   "metadata": {},
   "source": [
    "## 3-1 四則演算"
   ]
  },
  {
   "cell_type": "code",
   "execution_count": 1,
   "id": "b10d4ddc-c98b-414f-98de-9127ca142c47",
   "metadata": {},
   "outputs": [
    {
     "data": {
      "text/plain": [
       "2"
      ]
     },
     "execution_count": 1,
     "metadata": {},
     "output_type": "execute_result"
    }
   ],
   "source": [
    "1 + 1 # 足し算"
   ]
  },
  {
   "cell_type": "code",
   "execution_count": 2,
   "id": "a59cf7d0-47cb-4758-a9a2-f8560eb192d3",
   "metadata": {},
   "outputs": [
    {
     "data": {
      "text/plain": [
       "3"
      ]
     },
     "execution_count": 2,
     "metadata": {},
     "output_type": "execute_result"
    }
   ],
   "source": [
    "5 - 2 # 引き算"
   ]
  },
  {
   "cell_type": "code",
   "execution_count": 3,
   "id": "afd7c292-60cd-4cc8-87d7-da4f7d45f998",
   "metadata": {},
   "outputs": [
    {
     "data": {
      "text/plain": [
       "6"
      ]
     },
     "execution_count": 3,
     "metadata": {},
     "output_type": "execute_result"
    }
   ],
   "source": [
    "2 * 3 #掛け算"
   ]
  },
  {
   "cell_type": "code",
   "execution_count": 4,
   "id": "ae9cbb97-0151-455c-9634-c1e28ff1e862",
   "metadata": {},
   "outputs": [
    {
     "data": {
      "text/plain": [
       "2.0"
      ]
     },
     "execution_count": 4,
     "metadata": {},
     "output_type": "execute_result"
    }
   ],
   "source": [
    "6 / 3 # 割り算"
   ]
  },
  {
   "cell_type": "markdown",
   "id": "c4e661a5-8b36-4405-9a01-0a120d0cf4a5",
   "metadata": {},
   "source": [
    "## 3-2 その他の演算"
   ]
  },
  {
   "cell_type": "code",
   "execution_count": 5,
   "id": "622f583d-e2d0-44d1-8c9e-dc374e5b3e16",
   "metadata": {},
   "outputs": [
    {
     "data": {
      "text/plain": [
       "8"
      ]
     },
     "execution_count": 5,
     "metadata": {},
     "output_type": "execute_result"
    }
   ],
   "source": [
    "2 ** 3 # 累乗"
   ]
  },
  {
   "cell_type": "code",
   "execution_count": 6,
   "id": "22661764-b0c4-4487-afc8-e3bbeb6b299a",
   "metadata": {},
   "outputs": [
    {
     "data": {
      "text/plain": [
       "3"
      ]
     },
     "execution_count": 6,
     "metadata": {},
     "output_type": "execute_result"
    }
   ],
   "source": [
    "7//2 # 小数点以下を切り捨てた割り算"
   ]
  },
  {
   "cell_type": "code",
   "execution_count": 7,
   "id": "d722629c-db09-4d92-a287-019fa7c42924",
   "metadata": {},
   "outputs": [
    {
     "data": {
      "text/plain": [
       "1"
      ]
     },
     "execution_count": 7,
     "metadata": {},
     "output_type": "execute_result"
    }
   ],
   "source": [
    "7 % 3 # 余りを計算"
   ]
  },
  {
   "cell_type": "markdown",
   "id": "70b71e7b-779f-4b79-a450-7f6dbf0c676e",
   "metadata": {},
   "source": [
    "## 3-4 データの型"
   ]
  },
  {
   "cell_type": "code",
   "execution_count": 8,
   "id": "6c58101f-9eb5-470d-9464-668bf080bdbf",
   "metadata": {},
   "outputs": [
    {
     "data": {
      "text/plain": [
       "'A'"
      ]
     },
     "execution_count": 8,
     "metadata": {},
     "output_type": "execute_result"
    }
   ],
   "source": [
    "\"A\" # 文字列型 ダブルクォーテーション"
   ]
  },
  {
   "cell_type": "code",
   "execution_count": 9,
   "id": "1a9959fe-9ca0-4967-b65e-e91dab59405e",
   "metadata": {},
   "outputs": [
    {
     "data": {
      "text/plain": [
       "'A'"
      ]
     },
     "execution_count": 9,
     "metadata": {},
     "output_type": "execute_result"
    }
   ],
   "source": [
    "'A' # 文字列型 シングルクォーテーション"
   ]
  },
  {
   "cell_type": "code",
   "execution_count": 10,
   "id": "db03c48b-0ad2-4d25-b4e1-2f5b96f6eb83",
   "metadata": {},
   "outputs": [
    {
     "data": {
      "text/plain": [
       "str"
      ]
     },
     "execution_count": 10,
     "metadata": {},
     "output_type": "execute_result"
    }
   ],
   "source": [
    "type('A') # type関数を使うと型の名称を出力できる．"
   ]
  },
  {
   "cell_type": "code",
   "execution_count": 11,
   "id": "e4e4ef8b-913a-4f64-9e74-00b479541128",
   "metadata": {},
   "outputs": [
    {
     "data": {
      "text/plain": [
       "int"
      ]
     },
     "execution_count": 11,
     "metadata": {},
     "output_type": "execute_result"
    }
   ],
   "source": [
    "type(1)"
   ]
  },
  {
   "cell_type": "code",
   "execution_count": 12,
   "id": "988a2011-8213-4957-9e70-60534d8a8f4e",
   "metadata": {},
   "outputs": [
    {
     "data": {
      "text/plain": [
       "float"
      ]
     },
     "execution_count": 12,
     "metadata": {},
     "output_type": "execute_result"
    }
   ],
   "source": [
    "type(2.4)"
   ]
  },
  {
   "cell_type": "code",
   "execution_count": 13,
   "id": "e9774606-eb65-42ad-9a7a-a831c771af57",
   "metadata": {},
   "outputs": [
    {
     "data": {
      "text/plain": [
       "bool"
      ]
     },
     "execution_count": 13,
     "metadata": {},
     "output_type": "execute_result"
    }
   ],
   "source": [
    "type(True) # ブール型"
   ]
  },
  {
   "cell_type": "code",
   "execution_count": 14,
   "id": "76b41f00-f9bf-4410-94b0-8e5cd72a2428",
   "metadata": {},
   "outputs": [
    {
     "data": {
      "text/plain": [
       "bool"
      ]
     },
     "execution_count": 14,
     "metadata": {},
     "output_type": "execute_result"
    }
   ],
   "source": [
    "type(False)"
   ]
  },
  {
   "cell_type": "code",
   "execution_count": 15,
   "id": "c314e6b1-2955-4c91-8d77-7e3d18bf2fe0",
   "metadata": {},
   "outputs": [
    {
     "ename": "TypeError",
     "evalue": "can only concatenate str (not \"int\") to str",
     "output_type": "error",
     "traceback": [
      "\u001b[0;31m---------------------------------------------------------------------------\u001b[0m",
      "\u001b[0;31mTypeError\u001b[0m                                 Traceback (most recent call last)",
      "Cell \u001b[0;32mIn[15], line 1\u001b[0m\n\u001b[0;32m----> 1\u001b[0m \u001b[38;5;124;43m'\u001b[39;49m\u001b[38;5;124;43mA\u001b[39;49m\u001b[38;5;124;43m'\u001b[39;49m\u001b[43m \u001b[49m\u001b[38;5;241;43m+\u001b[39;49m\u001b[43m \u001b[49m\u001b[38;5;241;43m1\u001b[39;49m \u001b[38;5;66;03m# 異なるデータ型で演算をするとエラーになる\u001b[39;00m\n",
      "\u001b[0;31mTypeError\u001b[0m: can only concatenate str (not \"int\") to str"
     ]
    }
   ],
   "source": [
    "'A' + 1 # 異なるデータ型で演算をするとエラーになる"
   ]
  },
  {
   "cell_type": "markdown",
   "id": "a33b5159-e8a6-4437-a8d8-ba69022b4eb6",
   "metadata": {},
   "source": [
    "## 3-5 比較演算"
   ]
  },
  {
   "cell_type": "code",
   "execution_count": 16,
   "id": "693503d4-75e0-43ed-8f1a-7f54b14f1e87",
   "metadata": {},
   "outputs": [
    {
     "data": {
      "text/plain": [
       "True"
      ]
     },
     "execution_count": 16,
     "metadata": {},
     "output_type": "execute_result"
    }
   ],
   "source": [
    "1 > 0.89 # 数値の代償関係を比較する比較演算子"
   ]
  },
  {
   "cell_type": "code",
   "execution_count": 17,
   "id": "9c001640-c358-41af-a7ac-ac0f698c629e",
   "metadata": {},
   "outputs": [
    {
     "data": {
      "text/plain": [
       "False"
      ]
     },
     "execution_count": 17,
     "metadata": {},
     "output_type": "execute_result"
    }
   ],
   "source": [
    "3 < 2 # 正しくない場合はFalse"
   ]
  },
  {
   "cell_type": "markdown",
   "id": "40e41fbb-b276-4d2d-b05e-ff4edc172f4d",
   "metadata": {},
   "source": [
    "## 3-6 変数"
   ]
  },
  {
   "cell_type": "code",
   "execution_count": 18,
   "id": "b9729aa8-df17-4872-aaf6-cfcc3529f15d",
   "metadata": {},
   "outputs": [],
   "source": [
    "x = 100"
   ]
  },
  {
   "cell_type": "code",
   "execution_count": 19,
   "id": "07b0f537-4139-40ec-89a2-93535a840dd0",
   "metadata": {},
   "outputs": [
    {
     "data": {
      "text/plain": [
       "100"
      ]
     },
     "execution_count": 19,
     "metadata": {},
     "output_type": "execute_result"
    }
   ],
   "source": [
    "x"
   ]
  },
  {
   "cell_type": "code",
   "execution_count": 20,
   "id": "7e14dcc5-2267-4ed4-ac7a-e898f5c0bd41",
   "metadata": {},
   "outputs": [
    {
     "data": {
      "text/plain": [
       "293"
      ]
     },
     "execution_count": 20,
     "metadata": {},
     "output_type": "execute_result"
    }
   ],
   "source": [
    "x = 293\n",
    "x"
   ]
  },
  {
   "cell_type": "code",
   "execution_count": 21,
   "id": "a73ae713-4f95-4b87-9173-0f9cc1d8d3ba",
   "metadata": {},
   "outputs": [
    {
     "ename": "NameError",
     "evalue": "name 'y' is not defined",
     "output_type": "error",
     "traceback": [
      "\u001b[0;31m---------------------------------------------------------------------------\u001b[0m",
      "\u001b[0;31mNameError\u001b[0m                                 Traceback (most recent call last)",
      "Cell \u001b[0;32mIn[21], line 1\u001b[0m\n\u001b[0;32m----> 1\u001b[0m \u001b[43my\u001b[49m \u001b[38;5;66;03m# 中身を代入する前だとエラーになる\u001b[39;00m\n",
      "\u001b[0;31mNameError\u001b[0m: name 'y' is not defined"
     ]
    }
   ],
   "source": [
    "y # 中身を代入する前だとエラーになる"
   ]
  },
  {
   "cell_type": "code",
   "execution_count": 22,
   "id": "d8ba3ead-b4b3-4496-9632-9a2e4487762c",
   "metadata": {},
   "outputs": [
    {
     "data": {
      "text/plain": [
       "50"
      ]
     },
     "execution_count": 22,
     "metadata": {},
     "output_type": "execute_result"
    }
   ],
   "source": [
    "y = 50\n",
    "y"
   ]
  },
  {
   "cell_type": "code",
   "execution_count": 23,
   "id": "a98df0e0-e28e-4c26-94fa-789acee608df",
   "metadata": {},
   "outputs": [
    {
     "data": {
      "text/plain": [
       "343"
      ]
     },
     "execution_count": 23,
     "metadata": {},
     "output_type": "execute_result"
    }
   ],
   "source": [
    "x + y # 変数同士の計算などが可能"
   ]
  },
  {
   "cell_type": "markdown",
   "id": "f075253e-a2fa-418c-a203-eb3036adc194",
   "metadata": {},
   "source": [
    "## 3-7 関数"
   ]
  },
  {
   "cell_type": "code",
   "execution_count": 24,
   "id": "1b25fe6e-0f1a-4412-a63a-475b705d9171",
   "metadata": {},
   "outputs": [
    {
     "data": {
      "text/plain": [
       "208"
      ]
     },
     "execution_count": 24,
     "metadata": {},
     "output_type": "execute_result"
    }
   ],
   "source": [
    "(y + 2) * 4"
   ]
  },
  {
   "cell_type": "code",
   "execution_count": 25,
   "id": "a3ec521f-c3f0-4819-a7ec-7a8242ba3747",
   "metadata": {},
   "outputs": [],
   "source": [
    "def sample_function(data): # def 関数名 (引数):\n",
    "    return (data + 2) * 4  #     処理"
   ]
  },
  {
   "cell_type": "code",
   "execution_count": 26,
   "id": "f7c98395-800c-4059-a25a-b5eded7f5d3f",
   "metadata": {},
   "outputs": [
    {
     "data": {
      "text/plain": [
       "208"
      ]
     },
     "execution_count": 26,
     "metadata": {},
     "output_type": "execute_result"
    }
   ],
   "source": [
    "sample_function(y)"
   ]
  },
  {
   "cell_type": "code",
   "execution_count": 27,
   "id": "05e659cb-68f0-4935-9055-2247578276e2",
   "metadata": {},
   "outputs": [
    {
     "data": {
      "text/plain": [
       "20"
      ]
     },
     "execution_count": 27,
     "metadata": {},
     "output_type": "execute_result"
    }
   ],
   "source": [
    "sample_function(3) # 引数を変えて実行 (3 + 2) * 4 = 20"
   ]
  },
  {
   "cell_type": "code",
   "execution_count": 28,
   "id": "35c5d9de-5659-4869-ba6f-eae9fc40b2d4",
   "metadata": {},
   "outputs": [
    {
     "data": {
      "text/plain": [
       "228"
      ]
     },
     "execution_count": 28,
     "metadata": {},
     "output_type": "execute_result"
    }
   ],
   "source": [
    "sample_function(y) + sample_function(3) # 関数の演算結果の計算も可能"
   ]
  },
  {
   "cell_type": "markdown",
   "id": "e113eae3-c015-4f71-85b6-8fcd14dc9a34",
   "metadata": {},
   "source": [
    "## 3-8 頻繁に使う関数"
   ]
  },
  {
   "cell_type": "code",
   "execution_count": 29,
   "id": "2ff4d2b9-5445-49ad-a40e-d9736e74f805",
   "metadata": {},
   "outputs": [
    {
     "name": "stdout",
     "output_type": "stream",
     "text": [
      "2\n"
     ]
    }
   ],
   "source": [
    "print(1 + 1) # 結果を画面に出力させる print関数"
   ]
  },
  {
   "cell_type": "code",
   "execution_count": 30,
   "id": "c44bb360-36e2-4893-ac92-5b08c823f898",
   "metadata": {},
   "outputs": [
    {
     "name": "stdout",
     "output_type": "stream",
     "text": [
      "今から計算をします: 計算結果は 2\n"
     ]
    }
   ],
   "source": [
    "print('今から計算をします: 計算結果は', 1 + 1)"
   ]
  },
  {
   "cell_type": "code",
   "execution_count": 31,
   "id": "6eaa609c-c83f-4338-8e9a-d5581cc68daa",
   "metadata": {},
   "outputs": [
    {
     "data": {
      "text/plain": [
       "4"
      ]
     },
     "execution_count": 31,
     "metadata": {},
     "output_type": "execute_result"
    }
   ],
   "source": [
    "1 + 1\n",
    "1 + 3 # 複数の計算を1つのセルで行うと，最後の結果だけが出力される．"
   ]
  },
  {
   "cell_type": "code",
   "execution_count": 32,
   "id": "a45c182e-8258-4a7c-9988-fa99e76a16c2",
   "metadata": {},
   "outputs": [
    {
     "name": "stdout",
     "output_type": "stream",
     "text": [
      "2\n",
      "4\n"
     ]
    }
   ],
   "source": [
    "print(1 + 1)\n",
    "print(1 + 3) # print関数を使うと両方の結果を出力できる"
   ]
  },
  {
   "cell_type": "code",
   "execution_count": 33,
   "id": "f702de3d-59fd-4c47-ba51-8bb0e75bc322",
   "metadata": {},
   "outputs": [
    {
     "name": "stdout",
     "output_type": "stream",
     "text": [
      "1.234を丸めた結果 1\n",
      "1.963を丸めた結果 2\n"
     ]
    }
   ],
   "source": [
    "print('1.234を丸めた結果', round(1.234)) # round で整数に丸められる\n",
    "print('1.963を丸めた結果', round(1.963))"
   ]
  },
  {
   "cell_type": "code",
   "execution_count": 34,
   "id": "7f102f3d-acb4-473a-82d9-2b8f4b311866",
   "metadata": {},
   "outputs": [
    {
     "data": {
      "text/plain": [
       "1.23"
      ]
     },
     "execution_count": 34,
     "metadata": {},
     "output_type": "execute_result"
    }
   ],
   "source": [
    "round(1.234, ndigits = 2) # 整数でなく小数点第2位で丸める場合は引数ndigitsを追加する"
   ]
  },
  {
   "cell_type": "code",
   "execution_count": 35,
   "id": "8c88f342-30b4-47fd-8ad9-6118d0b85c49",
   "metadata": {},
   "outputs": [
    {
     "name": "stdout",
     "output_type": "stream",
     "text": [
      "2.5を丸めた結果 2\n",
      "3.5を丸めた結果 4\n"
     ]
    }
   ],
   "source": [
    "print('2.5を丸めた結果', round(2.5)) # 四捨五入ではなく，同じだけ近い場合は偶数が選ばれる\n",
    "print('3.5を丸めた結果', round(3.5))"
   ]
  },
  {
   "cell_type": "markdown",
   "id": "dec55734-91a9-40be-b6ef-3c9443e2d948",
   "metadata": {},
   "source": [
    "## 3-9 クラスインスタンス"
   ]
  },
  {
   "cell_type": "code",
   "execution_count": 36,
   "id": "a0f16d4b-aef8-494c-a5be-72148602c1b0",
   "metadata": {},
   "outputs": [],
   "source": [
    "class Sample_Class:                    # class クラス名\n",
    "    def __init__(self, data1, data2):  #     def 関数名1（引数)\n",
    "        self.data1 = data1             #         関数名1の処理\n",
    "        self.data2 = data2\n",
    "\n",
    "    def method2(self):                 #     def 関数名2 (引数):  \n",
    "        return self.data1 + self.data2 #         関数名2の処理"
   ]
  },
  {
   "cell_type": "markdown",
   "id": "7e969f3a-d8b5-44ad-b957-bb44545d092c",
   "metadata": {},
   "source": [
    "#### __init__ は特殊な関数, クラスの初期化をするコンストラクタと呼ばれる\n",
    "上記の例では，クラスにデータ(data1, data2)を格納する関数としてコンストラクタを使っている"
   ]
  },
  {
   "cell_type": "code",
   "execution_count": 37,
   "id": "660f3bac-4299-44c0-8e8f-9cbc8bbb3bf4",
   "metadata": {},
   "outputs": [],
   "source": [
    "sample_instance = Sample_Class(data1=2, data2=3) # data1に2が，data2に3が格納される"
   ]
  },
  {
   "cell_type": "code",
   "execution_count": 38,
   "id": "8413198e-e688-48c8-a2ea-bc80d3222ad8",
   "metadata": {},
   "outputs": [
    {
     "data": {
      "text/plain": [
       "2"
      ]
     },
     "execution_count": 38,
     "metadata": {},
     "output_type": "execute_result"
    }
   ],
   "source": [
    "sample_instance.data1 # 中身のデータを取り出す際にはドット記号を使う"
   ]
  },
  {
   "cell_type": "code",
   "execution_count": 39,
   "id": "9d6eaace-998b-45f5-91f6-8f5bd287aa3d",
   "metadata": {},
   "outputs": [
    {
     "data": {
      "text/plain": [
       "5"
      ]
     },
     "execution_count": 39,
     "metadata": {},
     "output_type": "execute_result"
    }
   ],
   "source": [
    "sample_instance.method2() # 自信の関数を使う場合も，ドット記号を使う"
   ]
  },
  {
   "cell_type": "markdown",
   "id": "45a94c6d-5e02-471f-b148-1313eea43b0f",
   "metadata": {},
   "source": [
    "#### 関数を実行するとき，sample_function(y)のように単に関数名を指定する場合と，インスタンスからsample_instance.method2()のように実装する場合がある"
   ]
  },
  {
   "cell_type": "markdown",
   "id": "07377499-8d3e-407f-919b-8aa566e7fcbe",
   "metadata": {},
   "source": [
    "#### クラスにデータを格納したインスタンスを実際には使っていく"
   ]
  },
  {
   "cell_type": "markdown",
   "id": "b33a8e67-3c54-4959-b554-eb22fd819e56",
   "metadata": {},
   "source": [
    "#### インスタンスの中身（データや計算のロジック）を取り出す場合には，ドット記号を使う"
   ]
  },
  {
   "cell_type": "markdown",
   "id": "0a87ed55-5f51-48f8-8440-d1f502078fb9",
   "metadata": {},
   "source": [
    "### 3-10 if構文による分岐"
   ]
  },
  {
   "cell_type": "code",
   "execution_count": 40,
   "id": "9a60c14a-248a-4e05-95d9-dd6d9adbfc5c",
   "metadata": {},
   "outputs": [
    {
     "name": "stdout",
     "output_type": "stream",
     "text": [
      "2より小さいデータです\n"
     ]
    }
   ],
   "source": [
    "data = 1\n",
    "if (data < 2):                  # if (条件): \n",
    "    print('2より小さいデータです') #     条件を満たした時の動作\n",
    "else:                           # else: \n",
    "    print('2以上のデータです')     #     満たさなかった時の動作"
   ]
  },
  {
   "cell_type": "code",
   "execution_count": 41,
   "id": "b114eb88-d0f1-4caa-a942-d61b467ec103",
   "metadata": {},
   "outputs": [
    {
     "name": "stdout",
     "output_type": "stream",
     "text": [
      "2以上のデータです\n"
     ]
    }
   ],
   "source": [
    "data = 3\n",
    "if (data < 2): \n",
    "    print('2より小さいデータです')\n",
    "else: \n",
    "    print('2以上のデータです')"
   ]
  },
  {
   "cell_type": "markdown",
   "id": "7974d536-d3ae-47b0-9c21-addc6e1887a9",
   "metadata": {},
   "source": [
    "### 3-11 for構文による繰り返し"
   ]
  },
  {
   "cell_type": "code",
   "execution_count": 42,
   "id": "ede7331f-d5d0-4a79-b957-9de18d8c8eef",
   "metadata": {},
   "outputs": [
    {
     "data": {
      "text/plain": [
       "range(0, 3)"
      ]
     },
     "execution_count": 42,
     "metadata": {},
     "output_type": "execute_result"
    }
   ],
   "source": [
    "range(0, 3) # range関数は幅を指定する"
   ]
  },
  {
   "cell_type": "code",
   "execution_count": 43,
   "id": "c27db083-6306-49b7-be34-08c59726a4a7",
   "metadata": {},
   "outputs": [
    {
     "name": "stdout",
     "output_type": "stream",
     "text": [
      "0\n",
      "1\n",
      "2\n"
     ]
    }
   ],
   "source": [
    "for i in range(0, 3): \n",
    "    print(i)"
   ]
  },
  {
   "cell_type": "code",
   "execution_count": 44,
   "id": "a38b3c14-728a-49a2-9ebe-c369a6cf6bd4",
   "metadata": {},
   "outputs": [
    {
     "name": "stdout",
     "output_type": "stream",
     "text": [
      "hello\n",
      "hello\n",
      "hello\n"
     ]
    }
   ],
   "source": [
    "for i in range(0, 3): \n",
    "    print('hello')"
   ]
  }
 ],
 "metadata": {
  "kernelspec": {
   "display_name": "Python 3 (ipykernel)",
   "language": "python",
   "name": "python3"
  },
  "language_info": {
   "codemirror_mode": {
    "name": "ipython",
    "version": 3
   },
   "file_extension": ".py",
   "mimetype": "text/x-python",
   "name": "python",
   "nbconvert_exporter": "python",
   "pygments_lexer": "ipython3",
   "version": "3.12.2"
  }
 },
 "nbformat": 4,
 "nbformat_minor": 5
}
