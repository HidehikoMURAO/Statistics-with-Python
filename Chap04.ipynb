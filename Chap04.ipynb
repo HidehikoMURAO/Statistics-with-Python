{
 "cells": [
  {
   "cell_type": "markdown",
   "id": "266967bc-6961-4c94-a325-5cc28ba71e8a",
   "metadata": {},
   "source": [
    "### 4-1 追加機能のインポート"
   ]
  },
  {
   "cell_type": "code",
   "execution_count": 1,
   "id": "e486ded3-0742-4482-8c72-9dffe2d713a9",
   "metadata": {},
   "outputs": [],
   "source": [
    "import numpy as np\n",
    "import pandas as pd"
   ]
  },
  {
   "cell_type": "markdown",
   "id": "872964c1-3f77-4668-811e-52f7b5057f19",
   "metadata": {},
   "source": [
    "### 4-3 リスト"
   ]
  },
  {
   "cell_type": "code",
   "execution_count": 2,
   "id": "4c6ec9ce-5b3b-4a8d-85b4-92f1a84f603e",
   "metadata": {},
   "outputs": [
    {
     "data": {
      "text/plain": [
       "[1, 2, 3, 4, 5]"
      ]
     },
     "execution_count": 2,
     "metadata": {},
     "output_type": "execute_result"
    }
   ],
   "source": [
    "sample_list = [1, 2, 3, 4, 5]\n",
    "sample_list"
   ]
  },
  {
   "cell_type": "markdown",
   "id": "4bec6836-6249-4042-b03f-b204b4fcf99b",
   "metadata": {},
   "source": [
    "### 4-5 アレイ"
   ]
  },
  {
   "cell_type": "code",
   "execution_count": 3,
   "id": "aefed8b2-d871-4689-89e9-d4ca4b23fc66",
   "metadata": {},
   "outputs": [
    {
     "data": {
      "text/plain": [
       "array([1, 2, 3, 4, 5])"
      ]
     },
     "execution_count": 3,
     "metadata": {},
     "output_type": "execute_result"
    }
   ],
   "source": [
    "sample_array = np.array([1, 2, 3, 4, 5])\n",
    "sample_array"
   ]
  },
  {
   "cell_type": "code",
   "execution_count": 4,
   "id": "a5a2c10f-bdb5-4119-b0e2-62011c7b5b1a",
   "metadata": {},
   "outputs": [
    {
     "data": {
      "text/plain": [
       "array(['1', '3', 'A'], dtype='<U21')"
      ]
     },
     "execution_count": 4,
     "metadata": {},
     "output_type": "execute_result"
    }
   ],
   "source": [
    "np.array([1, 3, 'A']) # 同一のアレイには同一の型しか入らない．この例では，全て文字列型として扱われている"
   ]
  },
  {
   "cell_type": "markdown",
   "id": "b0f04b60-e62d-4ca7-ad8c-7b6f44716d59",
   "metadata": {},
   "source": [
    "### 4-6 アレイに対する演算"
   ]
  },
  {
   "cell_type": "code",
   "execution_count": 5,
   "id": "a28b400a-69d8-4aa8-88ad-ab71a166bf61",
   "metadata": {},
   "outputs": [
    {
     "data": {
      "text/plain": [
       "array([2, 3, 4, 5, 6])"
      ]
     },
     "execution_count": 5,
     "metadata": {},
     "output_type": "execute_result"
    }
   ],
   "source": [
    "sample_array + 1 # アレイに対する演算はアレイの中身のデータ全てに一律に適用される"
   ]
  },
  {
   "cell_type": "code",
   "execution_count": 6,
   "id": "da6afde8-e9e6-4f3a-aa76-561957e52fc1",
   "metadata": {},
   "outputs": [
    {
     "data": {
      "text/plain": [
       "array([ 2,  4,  6,  8, 10])"
      ]
     },
     "execution_count": 6,
     "metadata": {},
     "output_type": "execute_result"
    }
   ],
   "source": [
    "sample_array * 2"
   ]
  },
  {
   "cell_type": "markdown",
   "id": "8d88f8e5-fbcd-4a8b-8f26-f63fb041c7d9",
   "metadata": {},
   "source": [
    "### 4-7 2次元のアレイ"
   ]
  },
  {
   "cell_type": "code",
   "execution_count": 7,
   "id": "5d14b5e6-0058-4b90-9640-479d4b8eda4a",
   "metadata": {},
   "outputs": [
    {
     "data": {
      "text/plain": [
       "array([[ 1,  2,  3,  4,  5],\n",
       "       [ 6,  7,  8,  9, 10]])"
      ]
     },
     "execution_count": 7,
     "metadata": {},
     "output_type": "execute_result"
    }
   ],
   "source": [
    "sample_array_2 = np.array(\n",
    "    [[1, 2, 3, 4, 5], \n",
    "     [6, 7, 8, 9, 10]])\n",
    "sample_array_2"
   ]
  },
  {
   "cell_type": "code",
   "execution_count": 8,
   "id": "e7128436-d626-46f5-ad64-5d496945143f",
   "metadata": {},
   "outputs": [
    {
     "data": {
      "text/plain": [
       "(2, 5)"
      ]
     },
     "execution_count": 8,
     "metadata": {},
     "output_type": "execute_result"
    }
   ],
   "source": [
    "sample_array_2.shape # 行数，列数の取得"
   ]
  },
  {
   "cell_type": "markdown",
   "id": "7c662d14-9e80-4bae-8ae4-67f631dfab50",
   "metadata": {},
   "source": [
    "### 4-8 等差数列の作成"
   ]
  },
  {
   "cell_type": "code",
   "execution_count": 9,
   "id": "576e44ce-ec3c-4025-aa09-b6438f1019bb",
   "metadata": {},
   "outputs": [
    {
     "data": {
      "text/plain": [
       "array([1, 2, 3, 4, 5])"
      ]
     },
     "execution_count": 9,
     "metadata": {},
     "output_type": "execute_result"
    }
   ],
   "source": [
    "np.arange(start = 1, stop = 6, step = 1) # start: 開始位置，stop: 終了位置，step: 差分"
   ]
  },
  {
   "cell_type": "code",
   "execution_count": 10,
   "id": "36eb6922-c941-4421-aa63-73365f75e309",
   "metadata": {},
   "outputs": [
    {
     "data": {
      "text/plain": [
       "array([0.1, 0.3, 0.5, 0.7])"
      ]
     },
     "execution_count": 10,
     "metadata": {},
     "output_type": "execute_result"
    }
   ],
   "source": [
    "np.arange(start = 0.1, stop = 0.8, step = 0.2)"
   ]
  },
  {
   "cell_type": "code",
   "execution_count": 11,
   "id": "224d52ad-675f-4b1e-a4ba-bc7eb17209f0",
   "metadata": {},
   "outputs": [
    {
     "data": {
      "text/plain": [
       "array([1., 2., 3., 4., 5.])"
      ]
     },
     "execution_count": 11,
     "metadata": {},
     "output_type": "execute_result"
    }
   ],
   "source": [
    "np.linspace(start = 1, stop = 5, num =5) # num: 要素数"
   ]
  },
  {
   "cell_type": "code",
   "execution_count": 12,
   "id": "0b55ca70-c42d-4f9f-8caf-7aba77d46e6d",
   "metadata": {},
   "outputs": [
    {
     "data": {
      "text/plain": [
       "array([1. , 1.4, 1.8, 2.2, 2.6, 3. , 3.4, 3.8, 4.2, 4.6, 5. ])"
      ]
     },
     "execution_count": 12,
     "metadata": {},
     "output_type": "execute_result"
    }
   ],
   "source": [
    "np.linspace(start = 1, stop = 5, num = 11) # 11等分"
   ]
  },
  {
   "cell_type": "markdown",
   "id": "7e9c90a3-09ab-47fe-9b93-4aa8748aa43d",
   "metadata": {},
   "source": [
    "### 4-9 様々なアレイの作成"
   ]
  },
  {
   "cell_type": "code",
   "execution_count": 13,
   "id": "5980f634-0651-4784-b344-c318802ada67",
   "metadata": {},
   "outputs": [
    {
     "data": {
      "text/plain": [
       "array(['A', 'A', 'A', 'A', 'A'], dtype='<U1')"
      ]
     },
     "execution_count": 13,
     "metadata": {},
     "output_type": "execute_result"
    }
   ],
   "source": [
    "np.tile('A', 5)"
   ]
  },
  {
   "cell_type": "code",
   "execution_count": 14,
   "id": "b7aed7c3-0f40-4e04-b05a-bc9489881bcc",
   "metadata": {},
   "outputs": [
    {
     "data": {
      "text/plain": [
       "array([0, 0, 0, 0])"
      ]
     },
     "execution_count": 14,
     "metadata": {},
     "output_type": "execute_result"
    }
   ],
   "source": [
    "np.tile(0, 4)"
   ]
  },
  {
   "cell_type": "code",
   "execution_count": 15,
   "id": "8dc87960-5522-4baf-8001-cc4f5860ea7c",
   "metadata": {},
   "outputs": [
    {
     "data": {
      "text/plain": [
       "array([0., 0., 0., 0.])"
      ]
     },
     "execution_count": 15,
     "metadata": {},
     "output_type": "execute_result"
    }
   ],
   "source": [
    "np.zeros(4) # 全てゼロであるアレイ"
   ]
  },
  {
   "cell_type": "code",
   "execution_count": 16,
   "id": "9076e489-da9f-4385-84b5-26343102a8fd",
   "metadata": {},
   "outputs": [
    {
     "data": {
      "text/plain": [
       "array([[0., 0., 0.],\n",
       "       [0., 0., 0.]])"
      ]
     },
     "execution_count": 16,
     "metadata": {},
     "output_type": "execute_result"
    }
   ],
   "source": [
    "np.zeros([2, 3])"
   ]
  },
  {
   "cell_type": "code",
   "execution_count": 17,
   "id": "de3094b3-3d16-4b01-83ff-6ac47666212e",
   "metadata": {},
   "outputs": [
    {
     "data": {
      "text/plain": [
       "array([1., 1., 1.])"
      ]
     },
     "execution_count": 17,
     "metadata": {},
     "output_type": "execute_result"
    }
   ],
   "source": [
    "np.ones(3) # 全ての要素が1のアレイ"
   ]
  },
  {
   "cell_type": "markdown",
   "id": "a50103d8-4187-42fc-8f85-780590b78449",
   "metadata": {},
   "source": [
    "### 4-10 スライシング"
   ]
  },
  {
   "cell_type": "code",
   "execution_count": 18,
   "id": "5e2799b0-f835-489d-ae4c-cbbc5720260e",
   "metadata": {},
   "outputs": [
    {
     "data": {
      "text/plain": [
       "array([1, 2, 3, 4, 5])"
      ]
     },
     "execution_count": 18,
     "metadata": {},
     "output_type": "execute_result"
    }
   ],
   "source": [
    "d1_array = np.array([1, 2, 3, 4, 5]) # 1次元アレイ\n",
    "d1_array"
   ]
  },
  {
   "cell_type": "code",
   "execution_count": 19,
   "id": "14aee982-fee6-4438-b058-7db44fa65b08",
   "metadata": {},
   "outputs": [
    {
     "data": {
      "text/plain": [
       "1"
      ]
     },
     "execution_count": 19,
     "metadata": {},
     "output_type": "execute_result"
    }
   ],
   "source": [
    "d1_array[0] # データ抽出には角カッコ [] を用いる"
   ]
  },
  {
   "cell_type": "code",
   "execution_count": 20,
   "id": "f65fcdc8-afd7-46b7-881e-dee657aa8692",
   "metadata": {},
   "outputs": [
    {
     "data": {
      "text/plain": [
       "array([2, 3])"
      ]
     },
     "execution_count": 20,
     "metadata": {},
     "output_type": "execute_result"
    }
   ],
   "source": [
    "d1_array[[1, 2]]"
   ]
  },
  {
   "cell_type": "code",
   "execution_count": 21,
   "id": "8abd6a1c-220f-46bd-a5fa-2bc19376c4a3",
   "metadata": {},
   "outputs": [
    {
     "data": {
      "text/plain": [
       "array([2, 3])"
      ]
     },
     "execution_count": 21,
     "metadata": {},
     "output_type": "execute_result"
    }
   ],
   "source": [
    "d1_array[1:3] # 範囲指定にはコロン記号（:）を使う"
   ]
  },
  {
   "cell_type": "code",
   "execution_count": 22,
   "id": "9c4a4ce4-bcb2-491b-8470-98b8487fddeb",
   "metadata": {},
   "outputs": [
    {
     "data": {
      "text/plain": [
       "array([2, 3])"
      ]
     },
     "execution_count": 22,
     "metadata": {},
     "output_type": "execute_result"
    }
   ],
   "source": [
    "d1_array[1:3]"
   ]
  },
  {
   "cell_type": "code",
   "execution_count": 23,
   "id": "eb28e9f8-41bd-433b-bb32-35e055996d1e",
   "metadata": {},
   "outputs": [
    {
     "data": {
      "text/plain": [
       "array([[ 1,  2,  3,  4,  5],\n",
       "       [ 6,  7,  8,  9, 10]])"
      ]
     },
     "execution_count": 23,
     "metadata": {},
     "output_type": "execute_result"
    }
   ],
   "source": [
    "d2_array = np.array(\n",
    "    [[1, 2, 3, 4, 5],\n",
    "     [6, 7, 8, 9, 10]])\n",
    "d2_array"
   ]
  },
  {
   "cell_type": "code",
   "execution_count": 24,
   "id": "a64c9837-5bf1-4381-8c53-a90c57435c49",
   "metadata": {},
   "outputs": [
    {
     "data": {
      "text/plain": [
       "4"
      ]
     },
     "execution_count": 24,
     "metadata": {},
     "output_type": "execute_result"
    }
   ],
   "source": [
    "d2_array[0, 3] # 行インデックス，列インデックスの番号を指定することで要素を抽出する"
   ]
  },
  {
   "cell_type": "code",
   "execution_count": 25,
   "id": "f7c252db-ca3b-468a-8314-d1abe10c79e3",
   "metadata": {},
   "outputs": [
    {
     "data": {
      "text/plain": [
       "array([8, 9])"
      ]
     },
     "execution_count": 25,
     "metadata": {},
     "output_type": "execute_result"
    }
   ],
   "source": [
    "d2_array[1, 2:4] # 2行目の3, 4番目の要素を抽出する"
   ]
  },
  {
   "cell_type": "markdown",
   "id": "f40a7472-2818-4861-a5fb-26bf7369d6fb",
   "metadata": {},
   "source": [
    "### 4-11 データフレーム"
   ]
  },
  {
   "cell_type": "code",
   "execution_count": 26,
   "id": "c515b0d8-1f4e-4682-abef-011c1d054686",
   "metadata": {},
   "outputs": [
    {
     "name": "stdout",
     "output_type": "stream",
     "text": [
      "   col1  col2 col3\n",
      "0     1     2    A\n",
      "1     2     4    B\n",
      "2     3     6    C\n",
      "3     4     8    D\n",
      "4     5    10    E\n"
     ]
    }
   ],
   "source": [
    "sample_df = pd.DataFrame({\n",
    "    'col1': sample_array, \n",
    "    'col2': sample_array * 2, \n",
    "    'col3': ['A', 'B', 'C', 'D', 'E']\n",
    "})\n",
    "print(sample_df)"
   ]
  },
  {
   "cell_type": "code",
   "execution_count": 27,
   "id": "1c2eade0-fdae-4937-87f1-ec7739b63641",
   "metadata": {},
   "outputs": [
    {
     "name": "stdout",
     "output_type": "stream",
     "text": [
      "   col1 col2\n",
      "0     1    A\n",
      "1     2    A\n",
      "2     3    B\n",
      "3     4    B\n",
      "4     5    C\n",
      "5     6    C\n"
     ]
    }
   ],
   "source": [
    "file_data = pd.read_csv('2-4-1-sample_data.csv') # csvファイルの読み込み\n",
    "print(file_data) # 読み込まれたデータはデータフレームとなっている"
   ]
  },
  {
   "cell_type": "markdown",
   "id": "8e261ab8-1f40-4f31-9f75-9e3e770a4f7a",
   "metadata": {},
   "source": [
    "### 4-13 データフレームの結合"
   ]
  },
  {
   "cell_type": "code",
   "execution_count": 28,
   "id": "c1c1cf96-0abc-4adf-8db4-8f400f8157f0",
   "metadata": {},
   "outputs": [],
   "source": [
    "df_1 = pd.DataFrame({ # データフレームを縦方向に繋げる\n",
    "    'col1': np.array([1, 2, 3]), \n",
    "    'col2': np.array(['A', 'B', 'C'])\n",
    "})\n",
    "df_2 = pd.DataFrame({\n",
    "    'col1': np.array([4, 5, 6]), \n",
    "    'col2': np.array(['D', 'E', 'F'])\n",
    "})"
   ]
  },
  {
   "cell_type": "code",
   "execution_count": 29,
   "id": "240d3b5e-d487-4050-a641-dfdd42ce6908",
   "metadata": {},
   "outputs": [
    {
     "name": "stdout",
     "output_type": "stream",
     "text": [
      "   col1 col2\n",
      "0     1    A\n",
      "1     2    B\n",
      "2     3    C\n",
      "0     4    D\n",
      "1     5    E\n",
      "2     6    F\n"
     ]
    }
   ],
   "source": [
    "print(pd.concat([df_1, df_2]))"
   ]
  },
  {
   "cell_type": "code",
   "execution_count": 30,
   "id": "43199bca-b666-4e5f-9cb7-47b6cb3a4909",
   "metadata": {},
   "outputs": [
    {
     "name": "stdout",
     "output_type": "stream",
     "text": [
      "   col1 col2  col1 col2\n",
      "0     1    A     4    D\n",
      "1     2    B     5    E\n",
      "2     3    C     6    F\n"
     ]
    }
   ],
   "source": [
    "print(pd.concat([df_1, df_2], axis = 1))"
   ]
  },
  {
   "cell_type": "markdown",
   "id": "04584e74-2afb-4488-a303-b34afcf32cf3",
   "metadata": {},
   "source": [
    "### 4-14 特定の列の取得"
   ]
  },
  {
   "cell_type": "code",
   "execution_count": 31,
   "id": "c21e0cb5-70b6-45e2-a836-ca1e8297d3ec",
   "metadata": {},
   "outputs": [
    {
     "name": "stdout",
     "output_type": "stream",
     "text": [
      "   col1  col2 col3\n",
      "0     1     2    A\n",
      "1     2     4    B\n",
      "2     3     6    C\n",
      "3     4     8    D\n",
      "4     5    10    E\n"
     ]
    }
   ],
   "source": [
    "print(sample_df)"
   ]
  },
  {
   "cell_type": "code",
   "execution_count": 32,
   "id": "786ebd62-42a8-4526-b557-fa35eeff762c",
   "metadata": {},
   "outputs": [
    {
     "name": "stdout",
     "output_type": "stream",
     "text": [
      "0     2\n",
      "1     4\n",
      "2     6\n",
      "3     8\n",
      "4    10\n",
      "Name: col2, dtype: int64\n"
     ]
    }
   ],
   "source": [
    "print(sample_df.col2) # 列名を指定して取得する場合はドット記号を使う"
   ]
  },
  {
   "cell_type": "code",
   "execution_count": 33,
   "id": "3b2dbc85-323e-44af-a33d-e4ca187d3ba1",
   "metadata": {},
   "outputs": [
    {
     "name": "stdout",
     "output_type": "stream",
     "text": [
      "0     2\n",
      "1     4\n",
      "2     6\n",
      "3     8\n",
      "4    10\n",
      "Name: col2, dtype: int64\n"
     ]
    }
   ],
   "source": [
    "print(sample_df['col2']) # 角カッコ[]を使う方法もある"
   ]
  },
  {
   "cell_type": "code",
   "execution_count": 34,
   "id": "d2aa6187-8bf3-4571-a814-e50c80e6c7f2",
   "metadata": {},
   "outputs": [
    {
     "name": "stdout",
     "output_type": "stream",
     "text": [
      "   col2 col3\n",
      "0     2    A\n",
      "1     4    B\n",
      "2     6    C\n",
      "3     8    D\n",
      "4    10    E\n"
     ]
    }
   ],
   "source": [
    "print(sample_df[['col2', 'col3']]) # 複数列の抽出，列名を指定する角カッコの中にリスト形式で列名を複数記載する"
   ]
  },
  {
   "cell_type": "code",
   "execution_count": 35,
   "id": "baa11678-a706-4d91-a44f-24de44cd8653",
   "metadata": {},
   "outputs": [
    {
     "name": "stdout",
     "output_type": "stream",
     "text": [
      "   col2 col3\n",
      "0     2    A\n",
      "1     4    B\n",
      "2     6    C\n",
      "3     8    D\n",
      "4    10    E\n"
     ]
    }
   ],
   "source": [
    "print(sample_df.drop('col1', axis=1)) # drop関数で特定行だけをなくすこともできる"
   ]
  },
  {
   "cell_type": "markdown",
   "id": "15b8073d-e3f5-4247-b44a-831d1ea14674",
   "metadata": {},
   "source": [
    "### 4-15 特定の行の取得"
   ]
  },
  {
   "cell_type": "code",
   "execution_count": 36,
   "id": "157ce679-e313-4240-b93a-b377f52c3bb2",
   "metadata": {},
   "outputs": [
    {
     "name": "stdout",
     "output_type": "stream",
     "text": [
      "   col1  col2 col3\n",
      "0     1     2    A\n",
      "1     2     4    B\n",
      "2     3     6    C\n"
     ]
    }
   ],
   "source": [
    "print(sample_df.head(n=3)) # head関数で，最初の3行だけを取得する（引数nで取得する行数を指定）"
   ]
  },
  {
   "cell_type": "code",
   "execution_count": 37,
   "id": "46586884-9df1-4d44-8315-8e4c3f03e3ef",
   "metadata": {},
   "outputs": [
    {
     "name": "stdout",
     "output_type": "stream",
     "text": [
      "   col1  col2 col3\n",
      "0     1     2    A\n"
     ]
    }
   ],
   "source": [
    "print(sample_df.query('index == 0')) # query関数"
   ]
  },
  {
   "cell_type": "code",
   "execution_count": 38,
   "id": "48ffac25-6a27-4fee-baf3-c6387a30a6cc",
   "metadata": {},
   "outputs": [
    {
     "name": "stdout",
     "output_type": "stream",
     "text": [
      "   col1  col2 col3\n",
      "0     1     2    A\n"
     ]
    }
   ],
   "source": [
    "print(sample_df.query('col3 == \"A\"')) # ダブルクォーテーションとシングルクォーテーションの使い分けに注意"
   ]
  },
  {
   "cell_type": "code",
   "execution_count": 39,
   "id": "9a7529cf-5c0a-4b49-a7f0-f1b1f64af504",
   "metadata": {},
   "outputs": [
    {
     "name": "stdout",
     "output_type": "stream",
     "text": [
      "   col1  col2 col3\n",
      "0     1     2    A\n",
      "3     4     8    D\n"
     ]
    }
   ],
   "source": [
    "print(sample_df.query('col3 == \"A\" | col3 == \"D\"')) # OR条件"
   ]
  },
  {
   "cell_type": "code",
   "execution_count": 40,
   "id": "c087ab0b-b1e7-4c4d-a4b2-dc4e6f2036fe",
   "metadata": {},
   "outputs": [
    {
     "name": "stdout",
     "output_type": "stream",
     "text": [
      "Empty DataFrame\n",
      "Columns: [col1, col2, col3]\n",
      "Index: []\n"
     ]
    }
   ],
   "source": [
    "print(sample_df.query('col3 == \"A\" & col1 ==3')) # AND条件"
   ]
  },
  {
   "cell_type": "code",
   "execution_count": 41,
   "id": "427f8f90-28de-49b8-b3a6-9609f2689a25",
   "metadata": {},
   "outputs": [
    {
     "name": "stdout",
     "output_type": "stream",
     "text": [
      "   col2 col3\n",
      "0     2    A\n"
     ]
    }
   ],
   "source": [
    "print(sample_df.query('col3 == \"A\"')[['col2', 'col3']])"
   ]
  },
  {
   "cell_type": "markdown",
   "id": "d60ae18f-2e3a-49f5-81bb-26e4cf204814",
   "metadata": {},
   "source": [
    "### 4-16 シリーズ"
   ]
  },
  {
   "cell_type": "code",
   "execution_count": 42,
   "id": "9e2376e0-b526-46ea-bb06-3844ebc417d9",
   "metadata": {},
   "outputs": [
    {
     "data": {
      "text/plain": [
       "pandas.core.frame.DataFrame"
      ]
     },
     "execution_count": 42,
     "metadata": {},
     "output_type": "execute_result"
    }
   ],
   "source": [
    "type(sample_df) # クラス名を確認"
   ]
  },
  {
   "cell_type": "code",
   "execution_count": 43,
   "id": "a4f21749-ff3e-4315-bf6d-731d4e6bce26",
   "metadata": {},
   "outputs": [
    {
     "data": {
      "text/plain": [
       "pandas.core.series.Series"
      ]
     },
     "execution_count": 43,
     "metadata": {},
     "output_type": "execute_result"
    }
   ],
   "source": [
    "type(sample_df.col1) # 1列だけを抽出した結果のクラス名を確認"
   ]
  },
  {
   "cell_type": "code",
   "execution_count": 44,
   "id": "501beb5a-851f-4ac2-8fa0-19219bc2e89e",
   "metadata": {},
   "outputs": [
    {
     "data": {
      "text/plain": [
       "numpy.ndarray"
      ]
     },
     "execution_count": 44,
     "metadata": {},
     "output_type": "execute_result"
    }
   ],
   "source": [
    "type(np.array(sample_df.col1)) # シリーズをアレイに変換する場合はnp,arrayの引数にシリーズを入れる"
   ]
  },
  {
   "cell_type": "code",
   "execution_count": 45,
   "id": "7570eecb-429d-4084-a077-89023bfbe9e5",
   "metadata": {},
   "outputs": [
    {
     "data": {
      "text/plain": [
       "numpy.ndarray"
      ]
     },
     "execution_count": 45,
     "metadata": {},
     "output_type": "execute_result"
    }
   ],
   "source": [
    "type(sample_df.col1.to_numpy()) # シリーズにto_numpy()とつけるとアレイとして扱える"
   ]
  },
  {
   "cell_type": "markdown",
   "id": "c532dd2f-7cab-4ec0-aa17-14b1498a8c63",
   "metadata": {},
   "source": [
    "### 4-17 関数のヘルプ"
   ]
  },
  {
   "cell_type": "code",
   "execution_count": 46,
   "id": "384b7d80-84c7-4ae2-b383-ab8dc972b115",
   "metadata": {},
   "outputs": [
    {
     "name": "stdout",
     "output_type": "stream",
     "text": [
      "Help on method query in module pandas.core.frame:\n",
      "\n",
      "query(expr: 'str', *, inplace: 'bool' = False, **kwargs) -> 'DataFrame | None' method of pandas.core.frame.DataFrame instance\n",
      "    Query the columns of a DataFrame with a boolean expression.\n",
      "    \n",
      "    Parameters\n",
      "    ----------\n",
      "    expr : str\n",
      "        The query string to evaluate.\n",
      "    \n",
      "        You can refer to variables\n",
      "        in the environment by prefixing them with an '@' character like\n",
      "        ``@a + b``.\n",
      "    \n",
      "        You can refer to column names that are not valid Python variable names\n",
      "        by surrounding them in backticks. Thus, column names containing spaces\n",
      "        or punctuations (besides underscores) or starting with digits must be\n",
      "        surrounded by backticks. (For example, a column named \"Area (cm^2)\" would\n",
      "        be referenced as ```Area (cm^2)```). Column names which are Python keywords\n",
      "        (like \"list\", \"for\", \"import\", etc) cannot be used.\n",
      "    \n",
      "        For example, if one of your columns is called ``a a`` and you want\n",
      "        to sum it with ``b``, your query should be ```a a` + b``.\n",
      "    \n",
      "    inplace : bool\n",
      "        Whether to modify the DataFrame rather than creating a new one.\n",
      "    **kwargs\n",
      "        See the documentation for :func:`eval` for complete details\n",
      "        on the keyword arguments accepted by :meth:`DataFrame.query`.\n",
      "    \n",
      "    Returns\n",
      "    -------\n",
      "    DataFrame or None\n",
      "        DataFrame resulting from the provided query expression or\n",
      "        None if ``inplace=True``.\n",
      "    \n",
      "    See Also\n",
      "    --------\n",
      "    eval : Evaluate a string describing operations on\n",
      "        DataFrame columns.\n",
      "    DataFrame.eval : Evaluate a string describing operations on\n",
      "        DataFrame columns.\n",
      "    \n",
      "    Notes\n",
      "    -----\n",
      "    The result of the evaluation of this expression is first passed to\n",
      "    :attr:`DataFrame.loc` and if that fails because of a\n",
      "    multidimensional key (e.g., a DataFrame) then the result will be passed\n",
      "    to :meth:`DataFrame.__getitem__`.\n",
      "    \n",
      "    This method uses the top-level :func:`eval` function to\n",
      "    evaluate the passed query.\n",
      "    \n",
      "    The :meth:`~pandas.DataFrame.query` method uses a slightly\n",
      "    modified Python syntax by default. For example, the ``&`` and ``|``\n",
      "    (bitwise) operators have the precedence of their boolean cousins,\n",
      "    :keyword:`and` and :keyword:`or`. This *is* syntactically valid Python,\n",
      "    however the semantics are different.\n",
      "    \n",
      "    You can change the semantics of the expression by passing the keyword\n",
      "    argument ``parser='python'``. This enforces the same semantics as\n",
      "    evaluation in Python space. Likewise, you can pass ``engine='python'``\n",
      "    to evaluate an expression using Python itself as a backend. This is not\n",
      "    recommended as it is inefficient compared to using ``numexpr`` as the\n",
      "    engine.\n",
      "    \n",
      "    The :attr:`DataFrame.index` and\n",
      "    :attr:`DataFrame.columns` attributes of the\n",
      "    :class:`~pandas.DataFrame` instance are placed in the query namespace\n",
      "    by default, which allows you to treat both the index and columns of the\n",
      "    frame as a column in the frame.\n",
      "    The identifier ``index`` is used for the frame index; you can also\n",
      "    use the name of the index to identify it in a query. Please note that\n",
      "    Python keywords may not be used as identifiers.\n",
      "    \n",
      "    For further details and examples see the ``query`` documentation in\n",
      "    :ref:`indexing <indexing.query>`.\n",
      "    \n",
      "    *Backtick quoted variables*\n",
      "    \n",
      "    Backtick quoted variables are parsed as literal Python code and\n",
      "    are converted internally to a Python valid identifier.\n",
      "    This can lead to the following problems.\n",
      "    \n",
      "    During parsing a number of disallowed characters inside the backtick\n",
      "    quoted string are replaced by strings that are allowed as a Python identifier.\n",
      "    These characters include all operators in Python, the space character, the\n",
      "    question mark, the exclamation mark, the dollar sign, and the euro sign.\n",
      "    For other characters that fall outside the ASCII range (U+0001..U+007F)\n",
      "    and those that are not further specified in PEP 3131,\n",
      "    the query parser will raise an error.\n",
      "    This excludes whitespace different than the space character,\n",
      "    but also the hashtag (as it is used for comments) and the backtick\n",
      "    itself (backtick can also not be escaped).\n",
      "    \n",
      "    In a special case, quotes that make a pair around a backtick can\n",
      "    confuse the parser.\n",
      "    For example, ```it's` > `that's``` will raise an error,\n",
      "    as it forms a quoted string (``'s > `that'``) with a backtick inside.\n",
      "    \n",
      "    See also the Python documentation about lexical analysis\n",
      "    (https://docs.python.org/3/reference/lexical_analysis.html)\n",
      "    in combination with the source code in :mod:`pandas.core.computation.parsing`.\n",
      "    \n",
      "    Examples\n",
      "    --------\n",
      "    >>> df = pd.DataFrame({'A': range(1, 6),\n",
      "    ...                    'B': range(10, 0, -2),\n",
      "    ...                    'C C': range(10, 5, -1)})\n",
      "    >>> df\n",
      "       A   B  C C\n",
      "    0  1  10   10\n",
      "    1  2   8    9\n",
      "    2  3   6    8\n",
      "    3  4   4    7\n",
      "    4  5   2    6\n",
      "    >>> df.query('A > B')\n",
      "       A  B  C C\n",
      "    4  5  2    6\n",
      "    \n",
      "    The previous expression is equivalent to\n",
      "    \n",
      "    >>> df[df.A > df.B]\n",
      "       A  B  C C\n",
      "    4  5  2    6\n",
      "    \n",
      "    For columns with spaces in their name, you can use backtick quoting.\n",
      "    \n",
      "    >>> df.query('B == `C C`')\n",
      "       A   B  C C\n",
      "    0  1  10   10\n",
      "    \n",
      "    The previous expression is equivalent to\n",
      "    \n",
      "    >>> df[df.B == df['C C']]\n",
      "       A   B  C C\n",
      "    0  1  10   10\n",
      "\n"
     ]
    }
   ],
   "source": [
    "help(sample_df.query)"
   ]
  },
  {
   "cell_type": "code",
   "execution_count": null,
   "id": "c76f05ab-78d9-457d-9221-2f3f2eb748ba",
   "metadata": {},
   "outputs": [],
   "source": []
  }
 ],
 "metadata": {
  "kernelspec": {
   "display_name": "Python 3 (ipykernel)",
   "language": "python",
   "name": "python3"
  },
  "language_info": {
   "codemirror_mode": {
    "name": "ipython",
    "version": 3
   },
   "file_extension": ".py",
   "mimetype": "text/x-python",
   "name": "python",
   "nbconvert_exporter": "python",
   "pygments_lexer": "ipython3",
   "version": "3.11.7"
  }
 },
 "nbformat": 4,
 "nbformat_minor": 5
}
